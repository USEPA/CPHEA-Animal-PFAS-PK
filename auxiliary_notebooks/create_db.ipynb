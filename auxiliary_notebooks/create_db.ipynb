{
 "cells": [
  {
   "cell_type": "markdown",
   "id": "8421e279",
   "metadata": {},
   "source": [
    "# Compile the SQLite database\n",
    "\n",
    "Run this notebook to compile all the study information and extracted data into a single database"
   ]
  },
  {
   "cell_type": "code",
   "execution_count": 1,
   "id": "6965a4d6",
   "metadata": {},
   "outputs": [],
   "source": [
    "%load_ext autoreload\n",
    "%autoreload 2\n",
    "\n",
    "import sys\n",
    "sys.path.append('..')\n",
    "\n",
    "from pfas_prep import PFAS\n",
    "import register_pfas_data as rpd"
   ]
  },
  {
   "cell_type": "markdown",
   "id": "b25135b9",
   "metadata": {},
   "source": [
    "Specify the database name (`../PFAS.db`) and run `rpd.register_data(pfas)`"
   ]
  },
  {
   "cell_type": "code",
   "execution_count": 2,
   "id": "dbd4ca71",
   "metadata": {},
   "outputs": [
    {
     "name": "stdout",
     "output_type": "stream",
     "text": [
      "Gannon et al. 2850314\n",
      "Ohmori et al. 3858670\n",
      "Kim 5063958\n",
      "Dzierlenga 5916078\n",
      "Sundstrom 1289834\n",
      "Kim 3749289\n",
      "Kim 4239569\n",
      "Iwabuchi 3859701\n",
      "Tatum-Gibbs 2919268\n",
      "Huang 5387170\n",
      "Olsen 1326734\n",
      "Chang 2325359\n",
      "Daikin 6822782\n",
      "Chengelis 2850396\n",
      "Lau 6579272\n",
      "Chang 1289832\n",
      "Butenhoff 3749227\n",
      "Kudo 2990271\n",
      "Lou 2919359\n",
      "Kemper 6302380\n"
     ]
    }
   ],
   "source": [
    "pfas_db = '../PFAS.db'\n",
    "pfas = PFAS(pfas_db, pfas_file = '../auxiliary/pfas_master.csv')\n",
    "rpd.register_data(pfas) # Register PFAS data"
   ]
  }
 ],
 "metadata": {
  "kernelspec": {
   "display_name": "Python 3 (ipykernel)",
   "language": "python",
   "name": "python3"
  },
  "language_info": {
   "codemirror_mode": {
    "name": "ipython",
    "version": 3
   },
   "file_extension": ".py",
   "mimetype": "text/x-python",
   "name": "python",
   "nbconvert_exporter": "python",
   "pygments_lexer": "ipython3",
   "version": "3.12.6"
  },
  "toc": {
   "base_numbering": 1,
   "nav_menu": {},
   "number_sections": true,
   "sideBar": true,
   "skip_h1_title": false,
   "title_cell": "Table of Contents",
   "title_sidebar": "Contents",
   "toc_cell": false,
   "toc_position": {},
   "toc_section_display": true,
   "toc_window_display": false
  }
 },
 "nbformat": 4,
 "nbformat_minor": 5
}
