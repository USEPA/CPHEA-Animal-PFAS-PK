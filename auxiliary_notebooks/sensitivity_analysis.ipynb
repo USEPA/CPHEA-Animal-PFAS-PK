{
 "cells": [
  {
   "cell_type": "code",
   "execution_count": 1,
   "id": "bb6c0dc2",
   "metadata": {},
   "outputs": [],
   "source": [
    "%load_ext autoreload\n",
    "%autoreload 2\n",
    "\n",
    "import pymc as pm\n",
    "import seaborn as sns\n",
    "import pandas as pd\n",
    "pd.set_option('display.max_columns', 500)\n",
    "pd.set_option('display.width', 1000)\n",
    "import numpy as np\n",
    "import arviz as az\n",
    "from matplotlib import pyplot as plt\n",
    "\n",
    "import sys\n",
    "sys.path.append('..')\n",
    "from pfas_prep import PFAS\n",
    "from PyPKMC import PyPKMC\n",
    "import register_pfas_data as rpd"
   ]
  },
  {
   "cell_type": "code",
   "execution_count": 2,
   "id": "24c6b58a",
   "metadata": {},
   "outputs": [],
   "source": [
    "chemical = 'PFHxS'\n",
    "pfas_db = '../PFAS.db'\n",
    "pfas_tmp = PFAS(pfas_db, pfas_file = '../auxiliary/pfas_master.csv', route_only = 'gavage')#, hero_only=1289834) # "
   ]
  },
  {
   "cell_type": "markdown",
   "id": "200ddbe6",
   "metadata": {},
   "source": [
    "# Investigate changing population mean for clearance and volume of distribution\n",
    "\n",
    "Fit a 2-compartment model for PFNA using increasingly broad priors"
   ]
  },
  {
   "cell_type": "code",
   "execution_count": 3,
   "id": "19392716",
   "metadata": {},
   "outputs": [
    {
     "name": "stdout",
     "output_type": "stream",
     "text": [
      "Hero ID available:  [1289834 3749289 4239569 5387170]\n",
      "dropping duplicated column\n",
      "Hero ID used:  [3749289 4239569 5387170]\n"
     ]
    }
   ],
   "source": [
    "pfas_male_data = pfas_tmp.get_processed_data(chemical=chemical, sex='Female', species='rat')"
   ]
  },
  {
   "cell_type": "code",
   "execution_count": 4,
   "id": "16a45dbc",
   "metadata": {},
   "outputs": [
    {
     "name": "stdout",
     "output_type": "stream",
     "text": [
      "PFHxS_Female_rat_2cmpt_default_priors\n",
      "hierarchical model, 2-compartment\n"
     ]
    },
    {
     "name": "stderr",
     "output_type": "stream",
     "text": [
      "Sampling: [conc_indiv, conc_summary, lnCLC_offset, lnR_offset, lnVdss_offset, lnk_abs_offset, lnk_cd_offset, mu_lnCLC, mu_lnR, mu_lnVdss, mu_lnk_abs, mu_lnk_cd, sigma, sigma_lnCLC, sigma_lnR, sigma_lnVdss, sigma_lnk_abs, sigma_lnk_cd]\n"
     ]
    },
    {
     "data": {
      "application/vnd.jupyter.widget-view+json": {
       "model_id": "0256e5ff15c94da6896d3a37676619a8",
       "version_major": 2,
       "version_minor": 0
      },
      "text/plain": [
       "  0%|          | 0/15000 [00:00<?, ?it/s]"
      ]
     },
     "metadata": {},
     "output_type": "display_data"
    },
    {
     "data": {
      "application/vnd.jupyter.widget-view+json": {
       "model_id": "47e38f2b08004cdaabf61b820fba79a5",
       "version_major": 2,
       "version_minor": 0
      },
      "text/plain": [
       "  0%|          | 0/15000 [00:00<?, ?it/s]"
      ]
     },
     "metadata": {},
     "output_type": "display_data"
    },
    {
     "data": {
      "application/vnd.jupyter.widget-view+json": {
       "model_id": "0b759fc345b6485fb0aef1ed10c889f5",
       "version_major": 2,
       "version_minor": 0
      },
      "text/plain": [
       "  0%|          | 0/15000 [00:00<?, ?it/s]"
      ]
     },
     "metadata": {},
     "output_type": "display_data"
    },
    {
     "data": {
      "application/vnd.jupyter.widget-view+json": {
       "model_id": "94071157a769436ba23cb21b8b827a65",
       "version_major": 2,
       "version_minor": 0
      },
      "text/plain": [
       "  0%|          | 0/15000 [00:00<?, ?it/s]"
      ]
     },
     "metadata": {},
     "output_type": "display_data"
    },
    {
     "name": "stderr",
     "output_type": "stream",
     "text": [
      "2024-08-19 12:35:49.852713: E external/xla/xla/service/slow_operation_alarm.cc:65] Constant folding an instruction is taking > 1s:\n",
      "\n",
      "  %reduce.6 = f64[4,5000,132]{2,1,0} reduce(f64[4,5000,1,132]{3,2,1,0} %broadcast.43, f64[] %constant.49), dimensions={2}, to_apply=%region_4.200, metadata={op_name=\"jit(process_fn)/jit(main)/reduce_prod[axes=(2,)]\" source_file=\"/data/tzurlind/tmp/tmpdhykv544\" source_line=167}\n",
      "\n",
      "This isn't necessarily a bug; constant-folding is inherently a trade-off between compilation time and speed at runtime. XLA has some guards that attempt to keep constant folding from taking too long, but fundamentally you'll always be able to come up with an input program that takes a long time.\n",
      "\n",
      "If you'd like to file a bug, run with envvar XLA_FLAGS=--xla_dump_to=/tmp/foo and attach the results.\n",
      "2024-08-19 12:35:58.180984: E external/xla/xla/service/slow_operation_alarm.cc:133] The operation took 9.328344214s\n",
      "Constant folding an instruction is taking > 1s:\n",
      "\n",
      "  %reduce.6 = f64[4,5000,132]{2,1,0} reduce(f64[4,5000,1,132]{3,2,1,0} %broadcast.43, f64[] %constant.49), dimensions={2}, to_apply=%region_4.200, metadata={op_name=\"jit(process_fn)/jit(main)/reduce_prod[axes=(2,)]\" source_file=\"/data/tzurlind/tmp/tmpdhykv544\" source_line=167}\n",
      "\n",
      "This isn't necessarily a bug; constant-folding is inherently a trade-off between compilation time and speed at runtime. XLA has some guards that attempt to keep constant folding from taking too long, but fundamentally you'll always be able to come up with an input program that takes a long time.\n",
      "\n",
      "If you'd like to file a bug, run with envvar XLA_FLAGS=--xla_dump_to=/tmp/foo and attach the results.\n",
      "2024-08-19 12:36:00.191379: E external/xla/xla/service/slow_operation_alarm.cc:65] Constant folding an instruction is taking > 2s:\n",
      "\n",
      "  %reduce.8 = f64[4,5000,132]{2,1,0} reduce(f64[4,5000,1,132]{3,2,1,0} %broadcast.198, f64[] %constant.49), dimensions={2}, to_apply=%region_4.200, metadata={op_name=\"jit(process_fn)/jit(main)/reduce_prod[axes=(2,)]\" source_file=\"/data/tzurlind/tmp/tmpdhykv544\" source_line=167}\n",
      "\n",
      "This isn't necessarily a bug; constant-folding is inherently a trade-off between compilation time and speed at runtime. XLA has some guards that attempt to keep constant folding from taking too long, but fundamentally you'll always be able to come up with an input program that takes a long time.\n",
      "\n",
      "If you'd like to file a bug, run with envvar XLA_FLAGS=--xla_dump_to=/tmp/foo and attach the results.\n",
      "2024-08-19 12:36:07.538630: E external/xla/xla/service/slow_operation_alarm.cc:133] The operation took 9.347372949s\n",
      "Constant folding an instruction is taking > 2s:\n",
      "\n",
      "  %reduce.8 = f64[4,5000,132]{2,1,0} reduce(f64[4,5000,1,132]{3,2,1,0} %broadcast.198, f64[] %constant.49), dimensions={2}, to_apply=%region_4.200, metadata={op_name=\"jit(process_fn)/jit(main)/reduce_prod[axes=(2,)]\" source_file=\"/data/tzurlind/tmp/tmpdhykv544\" source_line=167}\n",
      "\n",
      "This isn't necessarily a bug; constant-folding is inherently a trade-off between compilation time and speed at runtime. XLA has some guards that attempt to keep constant folding from taking too long, but fundamentally you'll always be able to come up with an input program that takes a long time.\n",
      "\n",
      "If you'd like to file a bug, run with envvar XLA_FLAGS=--xla_dump_to=/tmp/foo and attach the results.\n",
      "2024-08-19 12:36:11.539515: E external/xla/xla/service/slow_operation_alarm.cc:65] Constant folding an instruction is taking > 4s:\n",
      "\n",
      "  %reduce.9 = f64[4,5000,132]{2,1,0} reduce(f64[4,5000,1,132]{3,2,1,0} %broadcast.43, f64[] %constant.49), dimensions={2}, to_apply=%region_3.190, metadata={op_name=\"jit(process_fn)/jit(main)/reduce_prod[axes=(2,)]\" source_file=\"/data/tzurlind/tmp/tmpdhykv544\" source_line=161}\n",
      "\n",
      "This isn't necessarily a bug; constant-folding is inherently a trade-off between compilation time and speed at runtime. XLA has some guards that attempt to keep constant folding from taking too long, but fundamentally you'll always be able to come up with an input program that takes a long time.\n",
      "\n",
      "If you'd like to file a bug, run with envvar XLA_FLAGS=--xla_dump_to=/tmp/foo and attach the results.\n",
      "2024-08-19 12:36:16.451542: E external/xla/xla/service/slow_operation_alarm.cc:133] The operation took 8.912413137s\n",
      "Constant folding an instruction is taking > 4s:\n",
      "\n",
      "  %reduce.9 = f64[4,5000,132]{2,1,0} reduce(f64[4,5000,1,132]{3,2,1,0} %broadcast.43, f64[] %constant.49), dimensions={2}, to_apply=%region_3.190, metadata={op_name=\"jit(process_fn)/jit(main)/reduce_prod[axes=(2,)]\" source_file=\"/data/tzurlind/tmp/tmpdhykv544\" source_line=161}\n",
      "\n",
      "This isn't necessarily a bug; constant-folding is inherently a trade-off between compilation time and speed at runtime. XLA has some guards that attempt to keep constant folding from taking too long, but fundamentally you'll always be able to come up with an input program that takes a long time.\n",
      "\n",
      "If you'd like to file a bug, run with envvar XLA_FLAGS=--xla_dump_to=/tmp/foo and attach the results.\n",
      "2024-08-19 12:36:24.451986: E external/xla/xla/service/slow_operation_alarm.cc:65] Constant folding an instruction is taking > 8s:\n",
      "\n",
      "  %reduce.11 = f64[4,5000,132]{2,1,0} reduce(f64[4,5000,1,132]{3,2,1,0} %broadcast.188, f64[] %constant.49), dimensions={2}, to_apply=%region_3.190, metadata={op_name=\"jit(process_fn)/jit(main)/reduce_prod[axes=(2,)]\" source_file=\"/data/tzurlind/tmp/tmpdhykv544\" source_line=161}\n",
      "\n",
      "This isn't necessarily a bug; constant-folding is inherently a trade-off between compilation time and speed at runtime. XLA has some guards that attempt to keep constant folding from taking too long, but fundamentally you'll always be able to come up with an input program that takes a long time.\n",
      "\n",
      "If you'd like to file a bug, run with envvar XLA_FLAGS=--xla_dump_to=/tmp/foo and attach the results.\n",
      "2024-08-19 12:36:25.999913: E external/xla/xla/service/slow_operation_alarm.cc:133] The operation took 9.548088764s\n",
      "Constant folding an instruction is taking > 8s:\n",
      "\n",
      "  %reduce.11 = f64[4,5000,132]{2,1,0} reduce(f64[4,5000,1,132]{3,2,1,0} %broadcast.188, f64[] %constant.49), dimensions={2}, to_apply=%region_3.190, metadata={op_name=\"jit(process_fn)/jit(main)/reduce_prod[axes=(2,)]\" source_file=\"/data/tzurlind/tmp/tmpdhykv544\" source_line=161}\n",
      "\n",
      "This isn't necessarily a bug; constant-folding is inherently a trade-off between compilation time and speed at runtime. XLA has some guards that attempt to keep constant folding from taking too long, but fundamentally you'll always be able to come up with an input program that takes a long time.\n",
      "\n",
      "If you'd like to file a bug, run with envvar XLA_FLAGS=--xla_dump_to=/tmp/foo and attach the results.\n",
      "Sampling: [conc_indiv, conc_summary]\n"
     ]
    },
    {
     "data": {
      "application/vnd.jupyter.widget-view+json": {
       "model_id": "90004ded810d4794b45587b44c520c2f",
       "version_major": 2,
       "version_minor": 0
      },
      "text/plain": [
       "Output()"
      ]
     },
     "metadata": {},
     "output_type": "display_data"
    },
    {
     "data": {
      "text/html": [
       "<pre style=\"white-space:pre;overflow-x:auto;line-height:normal;font-family:Menlo,'DejaVu Sans Mono',consolas,'Courier New',monospace\"></pre>\n"
      ],
      "text/plain": []
     },
     "metadata": {},
     "output_type": "display_data"
    },
    {
     "data": {
      "text/html": [
       "<pre style=\"white-space:pre;overflow-x:auto;line-height:normal;font-family:Menlo,'DejaVu Sans Mono',consolas,'Courier New',monospace\">\n",
       "</pre>\n"
      ],
      "text/plain": [
       "\n"
      ]
     },
     "metadata": {},
     "output_type": "display_data"
    },
    {
     "name": "stdout",
     "output_type": "stream",
     "text": [
      "Combining likelihoods...\n"
     ]
    },
    {
     "name": "stderr",
     "output_type": "stream",
     "text": [
      "/data/tzurlind/pkgs/miniforge3/lib/python3.12/site-packages/arviz/stats/stats.py:789: UserWarning: Estimated shape parameter of Pareto distribution is greater than 0.7 for one or more samples. You should consider using a more robust model, this is because importance sampling is less likely to work well if the marginal posterior and LOO posterior are very different. This is more likely to happen with a non-robust model and highly influential observations.\n",
      "  warnings.warn(\n"
     ]
    },
    {
     "name": "stdout",
     "output_type": "stream",
     "text": [
      "Checking metrics...\n",
      "Pass all metrics = True\n",
      "Assign pareto...\n"
     ]
    },
    {
     "data": {
      "text/plain": [
       "<PyPKMC.PyPKMC at 0x7f6125311a90>"
      ]
     },
     "execution_count": 4,
     "metadata": {},
     "output_type": "execute_result"
    }
   ],
   "source": [
    "# Original priors\n",
    "pfas_male_2cmpt_default = PyPKMC(pfas_male_data, time_label='time_cor', y_obs_label='conc_mean_cor', sd_obs_label='conc_sd_cor',\n",
    "                         route_label='route_idx', dose_label='dose_mg', BW_label='BW_cor', \n",
    "                         study_label='hero_id', dataset_label='dataset_str', indiv_label='aidx', #Rkcd_SD_prior = 0.2,\n",
    "                         CLC_prior = {'mu': -2.89, 'sd': 2.68}, Vdss_prior = {'mu': -1.5, 'sd': 1.5})\n",
    "pfas_male_2cmpt_default.sample(model_type='2-compartment', target_accept=0.99, nuts_sampler='numpyro', trace_suffix='default_priors',\n",
    "                   load_trace=False, tune=10000, draws=5000, likelihood='Lognormal', sample_prior=True, sample_posterior=True)"
   ]
  },
  {
   "cell_type": "code",
   "execution_count": 11,
   "id": "e78db43a-5ae4-48f8-9fa5-3f61ed375f8f",
   "metadata": {},
   "outputs": [
    {
     "data": {
      "text/html": [
       "<div>\n",
       "<style scoped>\n",
       "    .dataframe tbody tr th:only-of-type {\n",
       "        vertical-align: middle;\n",
       "    }\n",
       "\n",
       "    .dataframe tbody tr th {\n",
       "        vertical-align: top;\n",
       "    }\n",
       "\n",
       "    .dataframe thead th {\n",
       "        text-align: right;\n",
       "    }\n",
       "</style>\n",
       "<table border=\"1\" class=\"dataframe\">\n",
       "  <thead>\n",
       "    <tr style=\"text-align: right;\">\n",
       "      <th></th>\n",
       "      <th>mean</th>\n",
       "      <th>sd</th>\n",
       "      <th>hdi_5%</th>\n",
       "      <th>hdi_95%</th>\n",
       "    </tr>\n",
       "  </thead>\n",
       "  <tbody>\n",
       "    <tr>\n",
       "      <th>CLC [pop]</th>\n",
       "      <td>85.61000</td>\n",
       "      <td>16.06000</td>\n",
       "      <td>61.24000</td>\n",
       "      <td>110.04000</td>\n",
       "    </tr>\n",
       "    <tr>\n",
       "      <th>Vc [pop]</th>\n",
       "      <td>0.20572</td>\n",
       "      <td>0.02623</td>\n",
       "      <td>0.16351</td>\n",
       "      <td>0.24568</td>\n",
       "    </tr>\n",
       "    <tr>\n",
       "      <th>Vdss [pop]</th>\n",
       "      <td>222.34000</td>\n",
       "      <td>27.68000</td>\n",
       "      <td>176.88000</td>\n",
       "      <td>263.81000</td>\n",
       "    </tr>\n",
       "    <tr>\n",
       "      <th>abs_halft [pop]</th>\n",
       "      <td>0.01075</td>\n",
       "      <td>0.00173</td>\n",
       "      <td>0.00793</td>\n",
       "      <td>0.01353</td>\n",
       "    </tr>\n",
       "    <tr>\n",
       "      <th>halft [pop]</th>\n",
       "      <td>1.85946</td>\n",
       "      <td>0.40961</td>\n",
       "      <td>1.20585</td>\n",
       "      <td>2.48439</td>\n",
       "    </tr>\n",
       "    <tr>\n",
       "      <th>halft_alpha [pop]</th>\n",
       "      <td>0.92839</td>\n",
       "      <td>0.39882</td>\n",
       "      <td>0.34806</td>\n",
       "      <td>1.58165</td>\n",
       "    </tr>\n",
       "    <tr>\n",
       "      <th>halft_beta [pop]</th>\n",
       "      <td>2.40836</td>\n",
       "      <td>2.58165</td>\n",
       "      <td>1.31688</td>\n",
       "      <td>2.99730</td>\n",
       "    </tr>\n",
       "  </tbody>\n",
       "</table>\n",
       "</div>"
      ],
      "text/plain": [
       "                        mean        sd     hdi_5%    hdi_95%\n",
       "CLC [pop]           85.61000  16.06000   61.24000  110.04000\n",
       "Vc [pop]             0.20572   0.02623    0.16351    0.24568\n",
       "Vdss [pop]         222.34000  27.68000  176.88000  263.81000\n",
       "abs_halft [pop]      0.01075   0.00173    0.00793    0.01353\n",
       "halft [pop]          1.85946   0.40961    1.20585    2.48439\n",
       "halft_alpha [pop]    0.92839   0.39882    0.34806    1.58165\n",
       "halft_beta [pop]     2.40836   2.58165    1.31688    2.99730"
      ]
     },
     "execution_count": 11,
     "metadata": {},
     "output_type": "execute_result"
    }
   ],
   "source": [
    "pfas_male_2cmpt_default.get_pk_stats(vol_units='ml')"
   ]
  },
  {
   "cell_type": "code",
   "execution_count": 5,
   "id": "feaa75ed",
   "metadata": {},
   "outputs": [
    {
     "name": "stdout",
     "output_type": "stream",
     "text": [
      "PFHxS_Female_rat_2cmpt_broad_mean_priors\n",
      "hierarchical model, 2-compartment\n"
     ]
    },
    {
     "name": "stderr",
     "output_type": "stream",
     "text": [
      "Sampling: [conc_indiv, conc_summary, lnCLC_offset, lnR_offset, lnVdss_offset, lnk_abs_offset, lnk_cd_offset, mu_lnCLC, mu_lnR, mu_lnVdss, mu_lnk_abs, mu_lnk_cd, sigma, sigma_lnCLC, sigma_lnR, sigma_lnVdss, sigma_lnk_abs, sigma_lnk_cd]\n"
     ]
    },
    {
     "data": {
      "application/vnd.jupyter.widget-view+json": {
       "model_id": "28f734343d014c5bbb5fa76d4b31e182",
       "version_major": 2,
       "version_minor": 0
      },
      "text/plain": [
       "  0%|          | 0/15000 [00:00<?, ?it/s]"
      ]
     },
     "metadata": {},
     "output_type": "display_data"
    },
    {
     "data": {
      "application/vnd.jupyter.widget-view+json": {
       "model_id": "45321b7eca93476e9d03317b5db50327",
       "version_major": 2,
       "version_minor": 0
      },
      "text/plain": [
       "  0%|          | 0/15000 [00:00<?, ?it/s]"
      ]
     },
     "metadata": {},
     "output_type": "display_data"
    },
    {
     "data": {
      "application/vnd.jupyter.widget-view+json": {
       "model_id": "b9b753b8f1a542eebbc01f3edec597d7",
       "version_major": 2,
       "version_minor": 0
      },
      "text/plain": [
       "  0%|          | 0/15000 [00:00<?, ?it/s]"
      ]
     },
     "metadata": {},
     "output_type": "display_data"
    },
    {
     "data": {
      "application/vnd.jupyter.widget-view+json": {
       "model_id": "80a8483fb31440b4b2d5387e3e9f2cc0",
       "version_major": 2,
       "version_minor": 0
      },
      "text/plain": [
       "  0%|          | 0/15000 [00:00<?, ?it/s]"
      ]
     },
     "metadata": {},
     "output_type": "display_data"
    },
    {
     "name": "stderr",
     "output_type": "stream",
     "text": [
      "Sampling: [conc_indiv, conc_summary]\n"
     ]
    },
    {
     "data": {
      "application/vnd.jupyter.widget-view+json": {
       "model_id": "acd75ee5a52247e4893f9018563090b7",
       "version_major": 2,
       "version_minor": 0
      },
      "text/plain": [
       "Output()"
      ]
     },
     "metadata": {},
     "output_type": "display_data"
    },
    {
     "data": {
      "text/html": [
       "<pre style=\"white-space:pre;overflow-x:auto;line-height:normal;font-family:Menlo,'DejaVu Sans Mono',consolas,'Courier New',monospace\"></pre>\n"
      ],
      "text/plain": []
     },
     "metadata": {},
     "output_type": "display_data"
    },
    {
     "data": {
      "text/html": [
       "<pre style=\"white-space:pre;overflow-x:auto;line-height:normal;font-family:Menlo,'DejaVu Sans Mono',consolas,'Courier New',monospace\">\n",
       "</pre>\n"
      ],
      "text/plain": [
       "\n"
      ]
     },
     "metadata": {},
     "output_type": "display_data"
    },
    {
     "name": "stdout",
     "output_type": "stream",
     "text": [
      "Combining likelihoods...\n"
     ]
    },
    {
     "name": "stderr",
     "output_type": "stream",
     "text": [
      "/data/tzurlind/pkgs/miniforge3/lib/python3.12/site-packages/arviz/stats/stats.py:789: UserWarning: Estimated shape parameter of Pareto distribution is greater than 0.7 for one or more samples. You should consider using a more robust model, this is because importance sampling is less likely to work well if the marginal posterior and LOO posterior are very different. This is more likely to happen with a non-robust model and highly influential observations.\n",
      "  warnings.warn(\n"
     ]
    },
    {
     "name": "stdout",
     "output_type": "stream",
     "text": [
      "Checking metrics...\n",
      "Pass all metrics = True\n",
      "Assign pareto...\n"
     ]
    },
    {
     "data": {
      "text/plain": [
       "<PyPKMC.PyPKMC at 0x7f6125311c40>"
      ]
     },
     "execution_count": 5,
     "metadata": {},
     "output_type": "execute_result"
    }
   ],
   "source": [
    "# Broad population mean priors for clearance and Vdss\n",
    "pfas_male_2cmpt_broad = PyPKMC(pfas_male_data, time_label='time_cor', y_obs_label='conc_mean_cor', sd_obs_label='conc_sd_cor',\n",
    "                         route_label='route_idx', dose_label='dose_mg', BW_label='BW_cor', \n",
    "                         study_label='hero_id', dataset_label='dataset_str', indiv_label='aidx', #Rkcd_SD_prior = 0.2,\n",
    "                         CLC_prior = {'mu': 0, 'sd': 5}, Vdss_prior = {'mu': 0, 'sd':5})\n",
    "pfas_male_2cmpt_broad.sample(model_type='2-compartment', target_accept=0.99, nuts_sampler='numpyro', trace_suffix='broad_mean_priors',\n",
    "                   load_trace=False, tune=10000, draws=5000, likelihood='Lognormal', sample_prior=True, sample_posterior=True)"
   ]
  },
  {
   "cell_type": "code",
   "execution_count": 12,
   "id": "8b8783c5-9ac2-4229-bea3-4f9205e92063",
   "metadata": {},
   "outputs": [
    {
     "data": {
      "text/html": [
       "<div>\n",
       "<style scoped>\n",
       "    .dataframe tbody tr th:only-of-type {\n",
       "        vertical-align: middle;\n",
       "    }\n",
       "\n",
       "    .dataframe tbody tr th {\n",
       "        vertical-align: top;\n",
       "    }\n",
       "\n",
       "    .dataframe thead th {\n",
       "        text-align: right;\n",
       "    }\n",
       "</style>\n",
       "<table border=\"1\" class=\"dataframe\">\n",
       "  <thead>\n",
       "    <tr style=\"text-align: right;\">\n",
       "      <th></th>\n",
       "      <th>mean</th>\n",
       "      <th>sd</th>\n",
       "      <th>hdi_5%</th>\n",
       "      <th>hdi_95%</th>\n",
       "    </tr>\n",
       "  </thead>\n",
       "  <tbody>\n",
       "    <tr>\n",
       "      <th>CLC [pop]</th>\n",
       "      <td>86.04000</td>\n",
       "      <td>16.21000</td>\n",
       "      <td>61.53000</td>\n",
       "      <td>110.54000</td>\n",
       "    </tr>\n",
       "    <tr>\n",
       "      <th>Vc [pop]</th>\n",
       "      <td>0.20590</td>\n",
       "      <td>0.02653</td>\n",
       "      <td>0.16518</td>\n",
       "      <td>0.24823</td>\n",
       "    </tr>\n",
       "    <tr>\n",
       "      <th>Vdss [pop]</th>\n",
       "      <td>222.49000</td>\n",
       "      <td>27.95000</td>\n",
       "      <td>178.20000</td>\n",
       "      <td>265.56000</td>\n",
       "    </tr>\n",
       "    <tr>\n",
       "      <th>abs_halft [pop]</th>\n",
       "      <td>0.01076</td>\n",
       "      <td>0.00174</td>\n",
       "      <td>0.00789</td>\n",
       "      <td>0.01351</td>\n",
       "    </tr>\n",
       "    <tr>\n",
       "      <th>halft [pop]</th>\n",
       "      <td>1.85122</td>\n",
       "      <td>0.40531</td>\n",
       "      <td>1.18884</td>\n",
       "      <td>2.46781</td>\n",
       "    </tr>\n",
       "    <tr>\n",
       "      <th>halft_alpha [pop]</th>\n",
       "      <td>0.92978</td>\n",
       "      <td>0.39890</td>\n",
       "      <td>0.29663</td>\n",
       "      <td>1.55349</td>\n",
       "    </tr>\n",
       "    <tr>\n",
       "      <th>halft_beta [pop]</th>\n",
       "      <td>2.38504</td>\n",
       "      <td>2.27698</td>\n",
       "      <td>1.31456</td>\n",
       "      <td>2.99730</td>\n",
       "    </tr>\n",
       "  </tbody>\n",
       "</table>\n",
       "</div>"
      ],
      "text/plain": [
       "                        mean        sd     hdi_5%    hdi_95%\n",
       "CLC [pop]           86.04000  16.21000   61.53000  110.54000\n",
       "Vc [pop]             0.20590   0.02653    0.16518    0.24823\n",
       "Vdss [pop]         222.49000  27.95000  178.20000  265.56000\n",
       "abs_halft [pop]      0.01076   0.00174    0.00789    0.01351\n",
       "halft [pop]          1.85122   0.40531    1.18884    2.46781\n",
       "halft_alpha [pop]    0.92978   0.39890    0.29663    1.55349\n",
       "halft_beta [pop]     2.38504   2.27698    1.31456    2.99730"
      ]
     },
     "execution_count": 12,
     "metadata": {},
     "output_type": "execute_result"
    }
   ],
   "source": [
    "pfas_male_2cmpt_broad.get_pk_stats(vol_units='ml')"
   ]
  },
  {
   "cell_type": "code",
   "execution_count": 6,
   "id": "6e528790",
   "metadata": {},
   "outputs": [
    {
     "name": "stdout",
     "output_type": "stream",
     "text": [
      "PFHxS_Female_rat_2cmpt_broad_variance_priors\n",
      "hierarchical model, 2-compartment\n"
     ]
    },
    {
     "name": "stderr",
     "output_type": "stream",
     "text": [
      "Sampling: [conc_indiv, conc_summary, lnCLC_offset, lnR_offset, lnVdss_offset, lnk_abs_offset, lnk_cd_offset, mu_lnCLC, mu_lnR, mu_lnVdss, mu_lnk_abs, mu_lnk_cd, sigma, sigma_lnCLC, sigma_lnR, sigma_lnVdss, sigma_lnk_abs, sigma_lnk_cd]\n"
     ]
    },
    {
     "data": {
      "application/vnd.jupyter.widget-view+json": {
       "model_id": "58aa9d6ac5c0408ab00d0887de0e64ff",
       "version_major": 2,
       "version_minor": 0
      },
      "text/plain": [
       "  0%|          | 0/15000 [00:00<?, ?it/s]"
      ]
     },
     "metadata": {},
     "output_type": "display_data"
    },
    {
     "data": {
      "application/vnd.jupyter.widget-view+json": {
       "model_id": "a29944fdf44e46ebbbe067cdfdec1a87",
       "version_major": 2,
       "version_minor": 0
      },
      "text/plain": [
       "  0%|          | 0/15000 [00:00<?, ?it/s]"
      ]
     },
     "metadata": {},
     "output_type": "display_data"
    },
    {
     "data": {
      "application/vnd.jupyter.widget-view+json": {
       "model_id": "92f69f8d4f2240dd87ebe99c2f41feb6",
       "version_major": 2,
       "version_minor": 0
      },
      "text/plain": [
       "  0%|          | 0/15000 [00:00<?, ?it/s]"
      ]
     },
     "metadata": {},
     "output_type": "display_data"
    },
    {
     "data": {
      "application/vnd.jupyter.widget-view+json": {
       "model_id": "e49e89ad9b9d4206856457b7d09b7b42",
       "version_major": 2,
       "version_minor": 0
      },
      "text/plain": [
       "  0%|          | 0/15000 [00:00<?, ?it/s]"
      ]
     },
     "metadata": {},
     "output_type": "display_data"
    },
    {
     "name": "stderr",
     "output_type": "stream",
     "text": [
      "Sampling: [conc_indiv, conc_summary]\n"
     ]
    },
    {
     "data": {
      "application/vnd.jupyter.widget-view+json": {
       "model_id": "b85b5117765f44b4b67bcf0c7ccd84ee",
       "version_major": 2,
       "version_minor": 0
      },
      "text/plain": [
       "Output()"
      ]
     },
     "metadata": {},
     "output_type": "display_data"
    },
    {
     "data": {
      "text/html": [
       "<pre style=\"white-space:pre;overflow-x:auto;line-height:normal;font-family:Menlo,'DejaVu Sans Mono',consolas,'Courier New',monospace\"></pre>\n"
      ],
      "text/plain": []
     },
     "metadata": {},
     "output_type": "display_data"
    },
    {
     "data": {
      "text/html": [
       "<pre style=\"white-space:pre;overflow-x:auto;line-height:normal;font-family:Menlo,'DejaVu Sans Mono',consolas,'Courier New',monospace\">\n",
       "</pre>\n"
      ],
      "text/plain": [
       "\n"
      ]
     },
     "metadata": {},
     "output_type": "display_data"
    },
    {
     "name": "stdout",
     "output_type": "stream",
     "text": [
      "Combining likelihoods...\n"
     ]
    },
    {
     "name": "stderr",
     "output_type": "stream",
     "text": [
      "/data/tzurlind/pkgs/miniforge3/lib/python3.12/site-packages/arviz/stats/stats.py:789: UserWarning: Estimated shape parameter of Pareto distribution is greater than 0.7 for one or more samples. You should consider using a more robust model, this is because importance sampling is less likely to work well if the marginal posterior and LOO posterior are very different. This is more likely to happen with a non-robust model and highly influential observations.\n",
      "  warnings.warn(\n"
     ]
    },
    {
     "name": "stdout",
     "output_type": "stream",
     "text": [
      "Checking metrics...\n",
      "Pass all metrics = True\n",
      "Assign pareto...\n"
     ]
    },
    {
     "data": {
      "text/plain": [
       "<PyPKMC.PyPKMC at 0x7f611cd1b9e0>"
      ]
     },
     "execution_count": 6,
     "metadata": {},
     "output_type": "execute_result"
    }
   ],
   "source": [
    "# Broad population variance priors for clearance and Vdss\n",
    "pfas_male_2cmpt_broad_variance = PyPKMC(pfas_male_data, time_label='time_cor', y_obs_label='conc_mean_cor', sd_obs_label='conc_sd_cor',\n",
    "                         route_label='route_idx', dose_label='dose_mg', BW_label='BW_cor', \n",
    "                         study_label='hero_id', dataset_label='dataset_str', indiv_label='aidx', #Rkcd_SD_prior = 0.2,\n",
    "                         CLC_prior = {'mu': -2.89, 'sd': 2.68}, Vdss_prior = {'mu': -1.5, 'sd': 1.5}, pop_SD_prior=3)\n",
    "pfas_male_2cmpt_broad_variance.sample(model_type='2-compartment', target_accept=0.99, nuts_sampler='numpyro', trace_suffix='broad_variance_priors',\n",
    "                   load_trace=False, tune=10000, draws=5000, likelihood='Lognormal', sample_prior=True, sample_posterior=True)"
   ]
  },
  {
   "cell_type": "code",
   "execution_count": 13,
   "id": "0822dbd5-2c02-407e-9641-ae4e50e0c397",
   "metadata": {},
   "outputs": [
    {
     "data": {
      "text/html": [
       "<div>\n",
       "<style scoped>\n",
       "    .dataframe tbody tr th:only-of-type {\n",
       "        vertical-align: middle;\n",
       "    }\n",
       "\n",
       "    .dataframe tbody tr th {\n",
       "        vertical-align: top;\n",
       "    }\n",
       "\n",
       "    .dataframe thead th {\n",
       "        text-align: right;\n",
       "    }\n",
       "</style>\n",
       "<table border=\"1\" class=\"dataframe\">\n",
       "  <thead>\n",
       "    <tr style=\"text-align: right;\">\n",
       "      <th></th>\n",
       "      <th>mean</th>\n",
       "      <th>sd</th>\n",
       "      <th>hdi_5%</th>\n",
       "      <th>hdi_95%</th>\n",
       "    </tr>\n",
       "  </thead>\n",
       "  <tbody>\n",
       "    <tr>\n",
       "      <th>CLC [pop]</th>\n",
       "      <td>86.29000</td>\n",
       "      <td>22.37000</td>\n",
       "      <td>56.34000</td>\n",
       "      <td>114.17000</td>\n",
       "    </tr>\n",
       "    <tr>\n",
       "      <th>Vc [pop]</th>\n",
       "      <td>0.20568</td>\n",
       "      <td>0.02925</td>\n",
       "      <td>0.15954</td>\n",
       "      <td>0.24993</td>\n",
       "    </tr>\n",
       "    <tr>\n",
       "      <th>Vdss [pop]</th>\n",
       "      <td>222.40000</td>\n",
       "      <td>31.08000</td>\n",
       "      <td>173.74000</td>\n",
       "      <td>268.94000</td>\n",
       "    </tr>\n",
       "    <tr>\n",
       "      <th>abs_halft [pop]</th>\n",
       "      <td>0.01075</td>\n",
       "      <td>0.00171</td>\n",
       "      <td>0.00801</td>\n",
       "      <td>0.01362</td>\n",
       "    </tr>\n",
       "    <tr>\n",
       "      <th>halft [pop]</th>\n",
       "      <td>1.87792</td>\n",
       "      <td>0.51267</td>\n",
       "      <td>1.11391</td>\n",
       "      <td>2.59384</td>\n",
       "    </tr>\n",
       "    <tr>\n",
       "      <th>halft_alpha [pop]</th>\n",
       "      <td>0.92373</td>\n",
       "      <td>0.40881</td>\n",
       "      <td>0.30623</td>\n",
       "      <td>1.53174</td>\n",
       "    </tr>\n",
       "    <tr>\n",
       "      <th>halft_beta [pop]</th>\n",
       "      <td>2.45433</td>\n",
       "      <td>2.55566</td>\n",
       "      <td>1.19201</td>\n",
       "      <td>3.12328</td>\n",
       "    </tr>\n",
       "  </tbody>\n",
       "</table>\n",
       "</div>"
      ],
      "text/plain": [
       "                        mean        sd     hdi_5%    hdi_95%\n",
       "CLC [pop]           86.29000  22.37000   56.34000  114.17000\n",
       "Vc [pop]             0.20568   0.02925    0.15954    0.24993\n",
       "Vdss [pop]         222.40000  31.08000  173.74000  268.94000\n",
       "abs_halft [pop]      0.01075   0.00171    0.00801    0.01362\n",
       "halft [pop]          1.87792   0.51267    1.11391    2.59384\n",
       "halft_alpha [pop]    0.92373   0.40881    0.30623    1.53174\n",
       "halft_beta [pop]     2.45433   2.55566    1.19201    3.12328"
      ]
     },
     "execution_count": 13,
     "metadata": {},
     "output_type": "execute_result"
    }
   ],
   "source": [
    "pfas_male_2cmpt_broad_variance.get_pk_stats(vol_units='ml')"
   ]
  },
  {
   "cell_type": "markdown",
   "id": "e1d52cb8",
   "metadata": {},
   "source": [
    "# Investigate PK parameters\n",
    "\n",
    "Investigate the 1% to 99% HDI for each prior assumption. Horizontal dashed lines represent the 95% credible intervals."
   ]
  },
  {
   "cell_type": "code",
   "execution_count": 8,
   "id": "e5c89c15",
   "metadata": {},
   "outputs": [
    {
     "data": {
      "text/plain": [
       "<matplotlib.legend.Legend at 0x7f611b195d60>"
      ]
     },
     "execution_count": 8,
     "metadata": {},
     "output_type": "execute_result"
    },
    {
     "data": {
      "image/png": "[encoded data removed]",
      "text/plain": [
       "<Figure size 640x480 with 3 Axes>"
      ]
     },
     "metadata": {},
     "output_type": "display_data"
    }
   ],
   "source": [
    "fig, ax = plt.subplots(1,3, sharey=True)\n",
    "var_names = ['CLC [pop]', 'Vdss [pop]', 'halft [pop]']\n",
    "for i, var_name in enumerate(var_names):\n",
    "    az.plot_dist(pfas_male_2cmpt_default._trace.posterior[var_name], cumulative=True, color='red', label='Weakly informed mean (default)', ax=ax[i])\n",
    "    az.plot_dist(pfas_male_2cmpt_broad._trace.posterior[var_name], cumulative=True, color='blue', label='Uninformed mean', ax=ax[i])\n",
    "    az.plot_dist(pfas_male_2cmpt_broad_variance._trace.posterior[var_name], cumulative=True, color='green', label='Uninformed variance', ax=ax[i])\n",
    "    hdi = az.hdi(pfas_male_2cmpt_default._trace.posterior[var_name], hdi_prob=0.99)[var_name]\n",
    "    ax[i].set_title(var_name)\n",
    "    ax[i].set_xlim(hdi.values)\n",
    "    ax[i].set_ylim([0.01, 0.99])\n",
    "    ax[i].axhline(0.03, color='black', linestyle='--')\n",
    "    ax[i].axhline(0.97, color='black', linestyle='--')\n",
    "    ax[i].get_legend().remove()\n",
    "    ax[i].xaxis.set_major_locator(plt.MaxNLocator(2))\n",
    "    #ax[i].set_xticklabels(ax[i].get_xticks(), fontsize=8)\n",
    "ax[-1].legend(bbox_to_anchor=(1.05, 1), loc='upper left', borderaxespad=0)\n",
    "#fig.tight_layout()"
   ]
  },
  {
   "cell_type": "code",
   "execution_count": 9,
   "id": "18c5dd67-f462-4e22-9510-21c15809f977",
   "metadata": {},
   "outputs": [
    {
     "data": {
      "image/png": "[encoded data removed]",
      "text/plain": [
       "<Figure size 640x480 with 3 Axes>"
      ]
     },
     "metadata": {},
     "output_type": "display_data"
    }
   ],
   "source": [
    "fig, ax = plt.subplots(1,3, sharey=True)\n",
    "var_names = ['CLC [pop]', 'Vdss [pop]', 'halft [pop]']\n",
    "for i, var_name in enumerate(var_names):\n",
    "    az.plot_forest([pfas_male_2cmpt_default._trace.posterior[var_name],\n",
    "                    pfas_male_2cmpt_broad._trace.posterior[var_name],\n",
    "                    pfas_male_2cmpt_broad_variance._trace.posterior[var_name]],\n",
    "                   model_names = ['Weakly informed mean (default)', 'Uninformed mean', 'Uninformed variance'],\n",
    "                   kind='forestplot', ax=ax[i], combined=True)\n",
    "    ax[i].set_title(var_name)\n",
    "    if i != 1:\n",
    "        ax[i].get_legend().remove()\n",
    "#ax[-1].legend(bbox_to_anchor=(1.05, 1), loc='upper left', borderaxespad=0)"
   ]
  }
 ],
 "metadata": {
  "kernelspec": {
   "display_name": "Python 3 (ipykernel)",
   "language": "python",
   "name": "python3"
  },
  "language_info": {
   "codemirror_mode": {
    "name": "ipython",
    "version": 3
   },
   "file_extension": ".py",
   "mimetype": "text/x-python",
   "name": "python",
   "nbconvert_exporter": "python",
   "pygments_lexer": "ipython3",
   "version": "3.12.4"
  },
  "toc": {
   "base_numbering": 1,
   "nav_menu": {},
   "number_sections": true,
   "sideBar": true,
   "skip_h1_title": false,
   "title_cell": "Table of Contents",
   "title_sidebar": "Contents",
   "toc_cell": false,
   "toc_position": {},
   "toc_section_display": true,
   "toc_window_display": false
  }
 },
 "nbformat": 4,
 "nbformat_minor": 5
}
